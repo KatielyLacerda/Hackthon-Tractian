{
  "cells": [
    {
      "cell_type": "markdown",
      "metadata": {
        "id": "Y71-B3H0qOFv"
      },
      "source": [
        "#Hackathon TRACTIAN - SECOMP\n",
        "Equipe Triple AI"
      ]
    },
    {
      "cell_type": "code",
      "execution_count": 1,
      "metadata": {
        "colab": {
          "base_uri": "https://localhost:8080/"
        },
        "collapsed": true,
        "id": "ofboEGnMFd_J",
        "outputId": "e29dd251-ff8a-4aa4-f107-020a9f315f64"
      },
      "outputs": [
        {
          "name": "stdout",
          "output_type": "stream",
          "text": [
            "Collecting openai==0.28\n",
            "  Downloading openai-0.28.0-py3-none-any.whl.metadata (13 kB)\n",
            "Requirement already satisfied: requests>=2.20 in /usr/local/lib/python3.10/dist-packages (from openai==0.28) (2.32.3)\n",
            "Requirement already satisfied: tqdm in /usr/local/lib/python3.10/dist-packages (from openai==0.28) (4.66.5)\n",
            "Requirement already satisfied: aiohttp in /usr/local/lib/python3.10/dist-packages (from openai==0.28) (3.10.10)\n",
            "Requirement already satisfied: charset-normalizer<4,>=2 in /usr/local/lib/python3.10/dist-packages (from requests>=2.20->openai==0.28) (3.4.0)\n",
            "Requirement already satisfied: idna<4,>=2.5 in /usr/local/lib/python3.10/dist-packages (from requests>=2.20->openai==0.28) (3.10)\n",
            "Requirement already satisfied: urllib3<3,>=1.21.1 in /usr/local/lib/python3.10/dist-packages (from requests>=2.20->openai==0.28) (2.2.3)\n",
            "Requirement already satisfied: certifi>=2017.4.17 in /usr/local/lib/python3.10/dist-packages (from requests>=2.20->openai==0.28) (2024.8.30)\n",
            "Requirement already satisfied: aiohappyeyeballs>=2.3.0 in /usr/local/lib/python3.10/dist-packages (from aiohttp->openai==0.28) (2.4.3)\n",
            "Requirement already satisfied: aiosignal>=1.1.2 in /usr/local/lib/python3.10/dist-packages (from aiohttp->openai==0.28) (1.3.1)\n",
            "Requirement already satisfied: attrs>=17.3.0 in /usr/local/lib/python3.10/dist-packages (from aiohttp->openai==0.28) (24.2.0)\n",
            "Requirement already satisfied: frozenlist>=1.1.1 in /usr/local/lib/python3.10/dist-packages (from aiohttp->openai==0.28) (1.4.1)\n",
            "Requirement already satisfied: multidict<7.0,>=4.5 in /usr/local/lib/python3.10/dist-packages (from aiohttp->openai==0.28) (6.1.0)\n",
            "Requirement already satisfied: yarl<2.0,>=1.12.0 in /usr/local/lib/python3.10/dist-packages (from aiohttp->openai==0.28) (1.16.0)\n",
            "Requirement already satisfied: async-timeout<5.0,>=4.0 in /usr/local/lib/python3.10/dist-packages (from aiohttp->openai==0.28) (4.0.3)\n",
            "Requirement already satisfied: typing-extensions>=4.1.0 in /usr/local/lib/python3.10/dist-packages (from multidict<7.0,>=4.5->aiohttp->openai==0.28) (4.12.2)\n",
            "Requirement already satisfied: propcache>=0.2.0 in /usr/local/lib/python3.10/dist-packages (from yarl<2.0,>=1.12.0->aiohttp->openai==0.28) (0.2.0)\n",
            "Downloading openai-0.28.0-py3-none-any.whl (76 kB)\n",
            "\u001b[2K   \u001b[90m━━━━━━━━━━━━━━━━━━━━━━━━━━━━━━━━━━━━━━━━\u001b[0m \u001b[32m76.5/76.5 kB\u001b[0m \u001b[31m3.6 MB/s\u001b[0m eta \u001b[36m0:00:00\u001b[0m\n",
            "\u001b[?25hInstalling collected packages: openai\n",
            "Successfully installed openai-0.28.0\n"
          ]
        }
      ],
      "source": [
        "# Instalações necessárias\n",
        "!pip install openai==0.28\n",
        "!pip install pypdf\n",
        "from pypdf import PdfReader\n",
        "import openai\n",
        "import pandas as pd"
      ]
    },
    {
      "cell_type": "code",
      "execution_count": 2,
      "metadata": {
        "id": "jMn3KJYGQBjt"
      },
      "outputs": [],
      "source": [
        "# Configurar a chave da API do ChatGPT\n",
        "openai.api_key = 'CHAVE API'"
      ]
    },
    {
      "cell_type": "code",
      "execution_count": 55,
      "metadata": {
        "id": "jgN_gDipof2i"
      },
      "outputs": [],
      "source": [
        "# Função simulada para interpretar o comando do usuário\n",
        "def main_chatbot(user_input):\n",
        "    # Analisa o input para determinar as funções necessárias\n",
        "    response = []\n",
        "    if \"transcrição de áudio\" in user_input:\n",
        "        response.append(\"transcrição de áudio\")\n",
        "    if \"manual de instruções\" in user_input:\n",
        "        response.append(\"manual de instruções\")\n",
        "    if \"assistente técnico\" in user_input or \"descrição de instruções\" in user_input or \"ferramentas necessárias\" in user_input:\n",
        "        response.append(\"assistente técnico\")\n",
        "    if \"disponibilidade de ferramentas\" in user_input:\n",
        "        response.append(\"disponibilidade de ferramentas\")\n",
        "    if \"ordem de serviço\" in user_input:\n",
        "        response.append(\"ordem de serviço\")\n",
        "    if \"escala de turnos\" in user_input:\n",
        "        response.append(\"escala de turnos\")\n",
        "    if \"relatório de paradas\" in user_input:\n",
        "        response.append(\"relatório de paradas\")\n",
        "    return response\n",
        "\n",
        "# Função principal que roteia as requisições\n",
        "def route_request(user_input, file_path=None, pdf_path=None, tool_catalog=None, manual_text=None, schedule_data=None, employee_data=None, holiday_data=None):\n",
        "    # Usa o main_chatbot para interpretar a solicitação do usuário\n",
        "    main_response = main_chatbot(user_input)\n",
        "\n",
        "    # Armazena as funções a serem chamadas\n",
        "    results = []  # Lista para coletar resultados de cada função executada\n",
        "\n",
        "    # Executa a transcrição de áudio se solicitado\n",
        "    if \"transcrição de áudio\" in main_response and file_path:\n",
        "        transcribed_text = transcribe_audio(file_path)\n",
        "        results.append(f\"Transcrição de Áudio: {transcribed_text}\")\n",
        "\n",
        "    # Executa a extração de texto do PDF se solicitado\n",
        "    if \"manual de instruções\" in main_response and pdf_path:\n",
        "        manual_text = extract_pdf_text(pdf_path)\n",
        "        results.append(f\"Texto do Manual: {manual_text}\")\n",
        "\n",
        "    # Executa a função de assistente técnico se solicitado\n",
        "    if \"assistente técnico\" or \"descrição de instruções\" or \"ferramentas necessárias\" in main_response:\n",
        "        technician_instructions = help_technician(user_input, tool_catalog, manual_text)\n",
        "        results.append(f\"Instruções para o Técnico: {technician_instructions}\")\n",
        "\n",
        "    # Verifica a disponibilidade de ferramentas se solicitado\n",
        "    if \"disponibilidade de ferramentas\" in main_response and schedule_data:\n",
        "        tool_availability = check_reservations(user_input, schedule_data)\n",
        "        results.append(f\"Disponibilidade de Ferramenta: {tool_availability}\")\n",
        "\n",
        "    # Cria uma ordem de serviço se solicitado\n",
        "    if \"ordem de serviço\" in main_response:\n",
        "        service_order = create_order_of_service(user_input)\n",
        "        results.append(f\"Ordem de Serviço: {service_order}\")\n",
        "\n",
        "    # Otimiza a escala de turnos se solicitado\n",
        "    if \"escala de turnos\" in main_response and employee_data and holiday_data:\n",
        "        schedule = optimize_schedule(employee_data, holiday_data)\n",
        "        results.append(f\"Escala de Turnos: {schedule}\")\n",
        "\n",
        "    # Otimiza o relatório de paradas se solicitado\n",
        "    if \"relatório de paradas\" in main_response:\n",
        "        downtime_analysis = optimize_downtime_report(user_input)\n",
        "        results.append(f\"Relatório de Paradas: {downtime_analysis}\")\n",
        "\n",
        "    # Consolida todos os resultados em uma resposta final\n",
        "    if results:\n",
        "        final_response = \"\\n\\n\".join(results)\n",
        "    else:\n",
        "        final_response = \"Não foi possível identificar a solicitação. Por favor, forneça mais detalhes.\"\n",
        "\n",
        "    return final_response\n"
      ]
    },
    {
      "cell_type": "code",
      "execution_count": 18,
      "metadata": {
        "id": "fD4pDXxJeQoS"
      },
      "outputs": [],
      "source": [
        "def transcribe_audio(file_path):\n",
        "    with open(file_path, \"rb\") as audio_file:\n",
        "        transcript = openai.Audio.transcribe(\"whisper-1\", audio_file)\n",
        "    return transcript['text']"
      ]
    },
    {
      "cell_type": "code",
      "execution_count": 31,
      "metadata": {
        "id": "z5jv4jEuYhYd"
      },
      "outputs": [],
      "source": [
        "def extract_pdf_text(pdf_path):\n",
        "    with open(pdf_path, \"rb\") as pdf_file:\n",
        "        reader = PdfReader(pdf_file)\n",
        "        text = \" \"\n",
        "        for i in range(len(reader.pages)):\n",
        "            page = reader.pages[i]\n",
        "            text += page.extract_text()\n",
        "    return text"
      ]
    },
    {
      "cell_type": "code",
      "execution_count": 38,
      "metadata": {
        "id": "sRVCLG-SWuxu"
      },
      "outputs": [],
      "source": [
        "def help_technician(transcribed_text, tool_catalog, manual_text):\n",
        "    prompt = f\"\"\"\n",
        "    Você é um assistente técnico para a equipe de manutenção industrial. O chefe enviou o seguinte áudio de instruções que foi transcrito:\n",
        "    '{transcribed_text}'.\n",
        "\n",
        "    1. Organize as instruções por escrito e em ordem para o técnico seguir de maneira clara.\n",
        "    2. Sugira as ferramentas necessárias para cada tarefa das instruções, com base no catálogo:\n",
        "       {tool_catalog}.\n",
        "    3. Indique o manual relevante, caso tenha sido mencionado alguma máquina nas intruções,\n",
        "    e forneça instruções de uso com base no texto do manual e as traduza para o português: {manual_text}.\n",
        "\n",
        "    Responda como se você fosse o assistente respondendo diretamente ao técnico.\n",
        "    \"\"\"\n",
        "    response = openai.ChatCompletion.create(\n",
        "        model=\"gpt-4-turbo\",\n",
        "        messages=[{\"role\": \"user\", \"content\": prompt}]\n",
        "    )\n",
        "    return response['choices'][0]['message']['content']"
      ]
    },
    {
      "cell_type": "code",
      "execution_count": 5,
      "metadata": {
        "id": "aV3iWW22a6Oz"
      },
      "outputs": [],
      "source": [
        "def check_reservations(tool_id, schedule_data):\n",
        "    prompt = f\"\"\"\n",
        "    Você é um assistente do almoxarifado. Um funcionário solicitou a ferramenta de ID '{tool_id}'.\n",
        "    Verifique se esta ferramenta está disponível, consultando a planilha de agendamentos a seguir:\n",
        "    {schedule_data}.\n",
        "\n",
        "    Responda 'Disponível' se a ferramenta estiver disponível para uso, ou informe o horário de reserva se já estiver agendada.\n",
        "    \"\"\"\n",
        "    response = openai.ChatCompletion.create(\n",
        "        model=\"gpt-4-turbo\",\n",
        "        messages=[{\"role\": \"user\", \"content\": prompt}]\n",
        "    )\n",
        "    return response['choices'][0]['message']['content']"
      ]
    },
    {
      "cell_type": "code",
      "execution_count": 6,
      "metadata": {
        "id": "m6g5WLQXbE7Z"
      },
      "outputs": [],
      "source": [
        "def create_order_of_service(task_description, safety_norms=\"NR-12\"):\n",
        "    prompt = f\"\"\"\n",
        "    Você é um assistente do planejador de ordens de serviço. Gere uma ordem de serviço completa para a tarefa '{task_description}',\n",
        "    certificando-se de que todas as instruções necessárias estão incluídas. Siga as normas de segurança aplicáveis, incluindo {safety_norms}.\n",
        "\n",
        "    Estruture a resposta como uma ordem de serviço detalhada, com um checklist de procedimmentos de segurança e EPI necessários,\n",
        "    bem como os passos para execução da tarefa, caso aplicável. Lembre-se que o idioma da resposta é português. Tome como base a seguinte estrutura:\n",
        "\n",
        "    Ordem de Serviço: #977\n",
        "    Data de Vencimento: 02/11/2024\n",
        "    Título: Inspeção Sensitiva Motor 150CV\n",
        "    Status: Em Aberto\n",
        "    Responsáveis: OPERAÇÃO.\n",
        "    Categoria: GR - GERAL\n",
        "    Tags: Sensitiva\n",
        "\n",
        "    Ativo:\n",
        "    Nome: TMD BRASIL 2024 / 1. FACTORY / 102 Motor Elétrico Trifásico\n",
        "    Modelo: Motor Trifásico\n",
        "    Tags: N/A\n",
        "\n",
        "    Atividades\n",
        "    Título: Realizar a inspeção sensitiva - 010\n",
        "    Tipo de Atividade: #7 IE: INSPEÇÃO DE EQUIPAMENTOS\n",
        "    Status: Não Iniciada\n",
        "    Valores estimados de:\n",
        "    Horas: 10min Executante: 1\n",
        "    Data de Início Programada\n",
        "    -\n",
        "    Data de Fim Programada\n",
        "    -\n",
        "    Executante\n",
        "    -\n",
        "\n",
        "    Procedimentos\n",
        "    Título: Procedimento de Inspeção Sensitiva para Compressores de Alta\n",
        "    Descrição: Este procedimento descreve as etapas para realizar uma inspeção sensitiva em compressores de alta, utilizando os sentidos do técnico para identificar sinais de desgaste, mau funcionamento ou ineficiência.\n",
        "    Atividade: Realizar a inspeção sensitiva - 010\n",
        "\n",
        "    Preparação\n",
        "    1. Equipamentos de Segurança e Ferramentas Necessárias:\n",
        "    Equipamento de Proteção Individual (EPI): luvas, óculos de proteção, protetores auriculares.\n",
        "    Ferramentas de medição de temperatura (termômetro infravermelho).\n",
        "    Equipamento de detecção de vibração (acelerômetro).\n",
        "    Lanterna para inspeção visual.\n",
        "    Kit de bloqueio e etiquetagem (LOTO).\n",
        "\n",
        "    Execução\n",
        "    2. Inspeção Visual\n",
        "    OK NÃO OK N/A\n",
        "    3. Inspeção Auditiva\n",
        "    OK NÃO OK N/A\n",
        "    4. Inspeção Térmica\n",
        "    OK NÃO OK N/A\n",
        "    5. Inspeção Olfativa\n",
        "    OK NÃO OK N/A\n",
        "\n",
        "    Conclusão\n",
        "    6. Verificações Pós-Manutenção\n",
        "    Certifique-se de que todas as ferramentas e equipamentos foram removidos da área de trabalho.\n",
        "    Remova o bloqueio e a etiquetagem (LOTO) e restaure a energia do compressor.\n",
        "    Realize um teste de funcionamento para garantir que o compressor opere sem problemas.\n",
        "    Documente todas as observações e ações tomadas durante a inspeção.\n",
        "\n",
        "    7. Assinatura do Técnico Responsável\n",
        "    Assinado por ____________________ em ___/___________/____\n",
        "\n",
        "    Custos\n",
        "    Itens R$ 0,00\n",
        "    Apontamentos R$ 0,00\n",
        "    Outros R$ 0,00\n",
        "    Total: R$ 0,00\n",
        "\n",
        "    _________________________________________________\n",
        "    Assinatura\n",
        "    _______ /__________________ /___________\n",
        "    Data\n",
        "\n",
        "    \"\"\"\n",
        "    response = openai.ChatCompletion.create(\n",
        "        model=\"gpt-4-turbo\",\n",
        "        messages=[{\"role\": \"user\", \"content\": prompt}]\n",
        "    )\n",
        "    return response['choices'][0]['message']['content']"
      ]
    },
    {
      "cell_type": "code",
      "execution_count": 7,
      "metadata": {
        "id": "EMAzkJdNZI63"
      },
      "outputs": [],
      "source": [
        "def optimize_schedule(employee_data, holiday_data):\n",
        "\n",
        "    prompt = f\"\"\"\n",
        "    Você é assistente do planejador da empresa encarregado de programar quem vai ficar em cada turno,\n",
        "    inclusive finais de semana e feriado, tomando cuidado para não deixar sempre a mesma pessoa nos turnos indesejados.\n",
        "    Crie uma escala otimizada considerando os funcionários disponíveis e os feriados: {employee_data}, {holiday_data}.\n",
        "    Além disso, a carga horária máxima de cada trabalhador é de 40h num regime 6x1 (um dia off)\"\"\"\n",
        "\n",
        "    response = openai.ChatCompletion.create(\n",
        "        model=\"gpt-3.5-turbo\",\n",
        "        messages=[{\"role\": \"user\", \"content\": prompt}]\n",
        "    )\n",
        "    return response.choices[0].message['content']"
      ]
    },
    {
      "cell_type": "code",
      "execution_count": 8,
      "metadata": {
        "id": "2Pp8wcYgbPHH"
      },
      "outputs": [],
      "source": [
        "def optimize_downtime_report(report_text):\n",
        "    prompt = f\"\"\"\n",
        "    Você é um assistente do planejador encarregado de analisar relatórios de parada para reduzir o tempo de inatividade das máquinas.\n",
        "    Leia o seguinte relatório de parada e sugira soluções práticas e eficazes para minimizar o tempo parado no futuro:\n",
        "\n",
        "    Relatório: '{report_text}'\n",
        "\n",
        "    Forneça uma análise com sugestões de melhoria, considerando manutenção preventiva e possíveis ajustes de processo.\n",
        "    \"\"\"\n",
        "    response = openai.ChatCompletion.create(\n",
        "        model=\"gpt-4-turbo\",\n",
        "        messages=[{\"role\": \"user\", \"content\": prompt}]\n",
        "    )\n",
        "    return response['choices'][0]['message']['content']"
      ]
    },
    {
      "cell_type": "markdown",
      "metadata": {
        "id": "trEprOjjfEkw"
      },
      "source": [
        "##Exemplos de uso"
      ]
    },
    {
      "cell_type": "code",
      "execution_count": 53,
      "metadata": {
        "id": "u9SbRMbHVNzm"
      },
      "outputs": [],
      "source": [
        "#arquivos da pasta de exemplo do hackathon que foram upados no colab\n",
        "tool_catalog = pd.read_csv('catalog.csv')\n",
        "file_path = \"/content/WhatsApp Ptt 2024-10-21 at 19.29.47.ogg\"\n",
        "pdf_path = \"/content/WEG-w22-three-phase-electric-motor-50029265-brochure-english-web.pdf\""
      ]
    },
    {
      "cell_type": "code",
      "execution_count": 39,
      "metadata": {
        "colab": {
          "base_uri": "https://localhost:8080/"
        },
        "id": "LqyOVT9qY16s",
        "outputId": "745dcda3-d63f-442c-a996-f1231e3eefe7"
      },
      "outputs": [
        {
          "name": "stdout",
          "output_type": "stream",
          "text": [
            "Olá! Aqui estão as instruções organizadas e claras para as tarefas que precisam ser realizadas no domingo:\n",
            "\n",
            "1. **Lubrificação da Linha 3:**\n",
            "   - **Equipamento:** Rolamentos na linha 3.\n",
            "   - **Ação:** Aplicar o lubrificante de código azul 6624.\n",
            "   - **Ferramentas Necessárias:** Chave de fenda ou Allen (conforme necessário para abrir o compartimento do rolamento).\n",
            "   - **Detalhes Adicionais:** Verificar a ficha técnica do equipamento para a quantia exata de lubrificante a ser utilizada.\n",
            "\n",
            "2. **Verificação de Óleo na Linha 12:**\n",
            "   - **Equipamento:** Desencapadora da linha 12.\n",
            "   - **Ação:** Checar os níveis de óleo.\n",
            "   - **Ferramentas Necessárias:** Ferramenta para medição de nível de óleo.\n",
            "   - **Detalhes Adicionais:** Observar possíveis picos de temperatura e se estão correlacionados com o nível de óleo.\n",
            "\n",
            "3. **Substituição de Filtro de Ar:**\n",
            "   - **Equipamento:** Compressor 5 na central.\n",
            "   - **Ação:** Trocar o filtro de ar já que está crítico.\n",
            "   - **Ferramentas Necessárias:** Chave de fenda para abrir o compartimento do filtro.\n",
            "   - **Detalhes Adicionais:** O filtro novo está debaixo da bancada.\n",
            "\n",
            "4. **Inspeção de Bomba de Circulação:**\n",
            "   - **Equipamento:** Bomba de circulação no canto direito.\n",
            "   - **Ação:** Verificar e analisar sons estranhos.\n",
            "   - **Ferramentas Necessárias:** Ferramentas para desmontagem e diagnóstico de máquinas, como chave Allen e detector de vibrações.\n",
            "\n",
            "Lembre-se de seguir todos os procedimentos de segurança e inspeção estabelecidos. Qualquer problema encontrado que não poder ser resolvido de imediato deve ser anotado para futura manutenção.\n",
            "\n",
            "Boa sorte com as manutenções e qualquer dúvida estou à disposição para ajudar, apesar de estar de folga no dia!\n"
          ]
        }
      ],
      "source": [
        "# Transcreve o áudio\n",
        "transcribed_text = transcribe_audio(file_path)\n",
        "# Extrai o texto do PDF\n",
        "manual_text = extract_pdf_text(manual_instructions)\n",
        "# print(help_technician(transcribed_text, tool_catalog, manual_text))"
      ]
    },
    {
      "cell_type": "code",
      "execution_count": 40,
      "metadata": {
        "colab": {
          "base_uri": "https://localhost:8080/"
        },
        "id": "9fIzbry0b1oJ",
        "outputId": "8e0ffc59-2ded-49de-c720-7de1e284fb92"
      },
      "outputs": [
        {
          "name": "stdout",
          "output_type": "stream",
          "text": [
            "Olá! Aqui estão as instruções organizadas e detalhadas para a manutenção que o chefe solicitou. Segue também uma lista das ferramentas necessárias baseadas no nosso catálogo.\n",
            "\n",
            "### Instruções de Manutenção:\n",
            "\n",
            "1. **Verificar a pressão no tanque A:**\n",
            "   - Utilize o manômetro adequado. Certifique-se de que a pressão está dentro dos parâmetros operacionais recomendados.\n",
            "   - Ferramentas sugeridas: Não específicas no catálogo fornecido.\n",
            "\n",
            "2. **Checar o óleo:**\n",
            "   - Verifique o nível e a qualidade do óleo. Substitua se estiver abaixo do nível ou se notar impurezas.\n",
            "   - Ferramentas sugeridas: Não específicas no catálogo fornecido.\n",
            "\n",
            "3. **Substituir o filtro:**\n",
            "   - Desligue a máquina e remova o filtro usado. Substitua por um novo e assegure-se de que está devidamente instalado.\n",
            "   - Ferramentas sugeridas: Kit de chaves (Código SAP: MAT905) pode ser necessário dependendo do filtro.\n",
            "\n",
            "4. **Verificar o motor elétrico trifásico:**\n",
            "   - Inspeção visual para verificar sinais de desgaste ou danos nos cabos e na carcaça.\n",
            "   - Medida da resistência dos enrolamentos do motor para assegurar que estão dentro das especificações.\n",
            "   - Ferramentas sugeridas: Multímetro para teste dos enrolamentos (Não listado no catálogo fornecido).\n",
            "\n",
            "### Ferramentas Necessárias:\n",
            "\n",
            "- **Manômetro**: para verificar a pressão no tanque (caso aplicável).\n",
            "- **Kit de chaves Allen**: para abrir a carcaça do filtro e possíveis ajustes no motor (Código SAP: MAT905).\n",
            "- **Multímetro**: para testar os enrolamentos elétricos do motor (Não listado).\n",
            "\n",
            "### Manual Técnico:\n",
            "\n",
            "**Motor Trifásico W22 da WEG, Catálogo Técnico** – Este manual fornece informações detalhadas sobre a instalação, operação e manutenção dos motores elétricos trifásicos W22. É crucial seguir as diretrizes específicas do manual para garantir uma operação segura e eficiente do motor.\n",
            "\n",
            "### Instruções de Uso (Traduzidas para o Português):\n",
            "\n",
            "1. **Instalação do Motor:**\n",
            "   - Garanta que o motor esteja alinhado e nivelado corretamente para evitar vibrações.\n",
            "   - Assegure-se de que todas as conexões elétricas estejam seguras e de acordo com as especificações técnicas.\n",
            "\n",
            "2. **Operação do Motor:**\n",
            "   - Verifique periodicamente o estado dos componentes elétricos e mecânicos.\n",
            "   - Realize testes de funcionamento antes de iniciar operações regulares após a manutenção.\n",
            "\n",
            "3. **Manutenção:**\n",
            "   - Limpeza regular para remover poeira e detritos que podem acumular-se no motor e causar superaquecimento.\n",
            "   - Verificação e substituição dos rolamentos conforme necessário para garantir o funcionamento suave do motor.\n",
            "\n",
            "Caso necessite de mais informações ou assistência adicional, estou à disposição. Certifique-se de utilizar equipamentos de proteção individual durante a manutenção para sua segurança.\n"
          ]
        }
      ],
      "source": [
        "transcribed_text = \"O chefe me disse para verificar a pressão no tanque A, checar o óleo e substituir o filtro. Também pediu para verificar o motor elétrico trifásico\"\n",
        "print(help_technician(transcribed_text, tool_catalog, manual_text))"
      ]
    },
    {
      "cell_type": "code",
      "execution_count": 41,
      "metadata": {
        "colab": {
          "base_uri": "https://localhost:8080/"
        },
        "id": "knjwYLOOdaik",
        "outputId": "f4fb5180-a5a1-4d1a-820c-81878b4f68f9"
      },
      "outputs": [
        {
          "name": "stdout",
          "output_type": "stream",
          "text": [
            "Ordem de Serviço: #977  \n",
            "Data de Vencimento: 02/11/2024  \n",
            "Título: Inspeção de segurança na prensa hidráulica  \n",
            "Status: Em Aberto  \n",
            "Responsáveis: OPERAÇÃO  \n",
            "Categoria: GR - GERAL  \n",
            "Tags: Segurança, NR-12\n",
            "\n",
            "Ativo:  \n",
            "Nome: TMD BRASIL 2024 / 1. FACTORY / Prensa Hidráulica  \n",
            "Modelo: Prensa Hidráulica  \n",
            "Tags: N/A\n",
            "\n",
            "Atividades  \n",
            "Título: Realizar a inspeção de segurança - 010  \n",
            "Tipo de Atividade: #7 IE: INSPEÇÃO DE EQUIPAMENTOS  \n",
            "Status: Não Iniciada  \n",
            "Valores estimados de:  \n",
            "Horas: 30 min  \n",
            "Executante: 1  \n",
            "Data de Início Programada: -  \n",
            "Data de Fim Programada: -  \n",
            "Executante: -\n",
            "\n",
            "Procedimentos  \n",
            "Título: Procedimento de Inspeção de Segurança para Prensa Hidráulica  \n",
            "Descrição: Este procedimento descreve as etapas para realizar uma inspeção de segurança em prensas hidráulicas, focando na identificação de riscos mecânicos e elétricos de acordo com a NR-12.\n",
            "\n",
            "Preparação  \n",
            "1. Equipamentos de Segurança e Ferramentas Necessárias:  \n",
            "Equipamento de Proteção Individual (EPI): Capacete, luvas de proteção mecânica, óculos de proteção, calçado de segurança, protetor auricular.  \n",
            "Kit de bloqueio e etiquetagem (LOTO).\n",
            "\n",
            "Execução  \n",
            "2. Inspeção Visual  \n",
            "Confirmação de guarda de proteção em locais adequados conforme NR-12.  \n",
            "Exame de cabos de energia e conexões elétricas para sinais de desgaste ou dano.  \n",
            "Verificação de vazamentos de óleo ou outros fluídos hidráulicos.  \n",
            "Inspeção de fixadores e componentes mecânicos para integridade estrutural.  \n",
            "OK NÃO OK N/A  \n",
            "\n",
            "3. Inspeção Funcional  \n",
            "Teste de operações da prensa, observando qualquer comportamento anormal como ruídos, vibrações ou operação áspera.  \n",
            "Verificação de sistemas de parada de emergência e dispositivos de segurança.  \n",
            "OK NÃO OK N/A  \n",
            "\n",
            "Conclusão  \n",
            "6. Verificações Pós-Manutenção  \n",
            "Certifique-se de que todas as ferramentas e equipamentos foram removidos da área de trabalho.  \n",
            "Remova o bloqueio e a etiquetagem (LOTO) e restaure a energia da prensa.  \n",
            "Realize um teste de funcionamento para garantir que a prensa opere de forma segura e eficaz.  \n",
            "Documente todas as observações e ações tomadas durante a inspeção.  \n",
            "\n",
            "7. Assinatura do Técnico Responsável  \n",
            "Assinado por ____________________ em ___/___________/____  \n",
            "\n",
            "Custos  \n",
            "Itens R$ 0,00  \n",
            "Apontamentos R$ 0,00  \n",
            "Outros R$ 0,00  \n",
            "Total: R$ 0,00  \n",
            "\n",
            "_________________________________________________  \n",
            "Assinatura  \n",
            "_______ /__________________ /___________  \n",
            "Data\n"
          ]
        }
      ],
      "source": [
        "task_description = \"Inspeção de segurança na prensa hidráulica\"\n",
        "safety_norms = \"NR-12\"\n",
        "print(create_order_of_service(task_description, safety_norms))"
      ]
    },
    {
      "cell_type": "code",
      "execution_count": 42,
      "metadata": {
        "colab": {
          "base_uri": "https://localhost:8080/"
        },
        "id": "4-VAd_difRxk",
        "outputId": "294bba5f-2c96-471a-d589-faafc76533a6"
      },
      "outputs": [
        {
          "name": "stdout",
          "output_type": "stream",
          "text": [
            "A partir do relatório fornecido sobre o superaquecimento da máquina X, podemos identificar que um dos principais problemas enfrentados é a incapacidade de manter a máquina operando em temperaturas seguras, ocasionando paradas necessárias para o resfriamento e ajuste técnico. Para minimizar o tempo de parada no futuro e melhorar a eficiência geral da produção, sugiro as seguintes medidas:\n",
            "\n",
            "1. **Implementação de Manutenção Preventiva Regular:**\n",
            "   - **Inspeções térmicas periódicas**: Utilizar termômetros infravermelhos ou câmeras termográficas para detectar áreas de superaquecimento antes que elas causem paradas. Estas inspeções devem ser agendadas com base na carga de trabalho e nos ciclos operacionais da máquina.\n",
            "   - **Verificação e limpeza de componentes**: Assegurar que todos os componentes, especialmente os que estão diretamente relacionados com o resfriamento da máquina, sejam limpos e verificados regularmente para evitar acúmulo de sujeira e gunk que possam afetar o desempenho térmico.\n",
            "\n",
            "2. **Ajuste e Melhoria nos Sistemas de Refrigeração:**\n",
            "   - **Aprimorar o sistema de refrigeração existente**: Revisar e possivelmente atualizar o sistema de refrigeração da máquina, seja através da instalação de componentes de refrigeração mais eficientes ou pela adição de sistemas auxiliares que possam dissipar melhor o calor.\n",
            "   - **Automação do controle de temperatura**: Implementar um sistema de controle automatizado que monitore constantemente a temperatura e ajuste automaticamente os mecanismos de refrigeração para prevenir o superaquecimento.\n",
            "\n",
            "3. **Treinamento e Protocolos de Operação:**\n",
            "   - **Capacitação contínua dos operadores**: Assegurar que todos os operadores estejam adequadamente treinados em práticas operacionais que minimizem o risco de superaquecimento, incluindo o uso adequado dos controles de temperatura e o entendimento de quando e como intervir se a máquina começar a apresentar sinais de aquecimento excessivo.\n",
            "   - **Desenvolvimento de protocolos de resposta rápida**: Estabelecer e treinar a equipe em procedimentos específicos para quando surge uma situação de superaquecimento — diminuindo o tempo de inatividade e prevenindo danos maiores à máquina.\n",
            "\n",
            "4. **Monitoramento Contínuo com Tecnologia Predictiva:**\n",
            "   - **Implementação de sensores IoT**: Instalar sensores de Internet das Coisas (IoT) para monitorar em tempo real as condições operacionais da máquina. Esses dados podem ser usados para prever falhas antes que elas ocorram e para otimizar o desempenho geral da máquina.\n",
            "   - **Software de análise preditiva**: Utilizar softwares que analisem os dados coletados para prever possíveis falhas ou identificar padrões que levem ao superaquecimento, permitindo intervenções proativas.\n",
            "\n",
            "Implementando essas medidas, é possível não só reduzir drasticamente o tempo de inatividade causado por superaquecimento, mas também prolongar a vida útil da máquina X e melhorar a eficiência da produção.\n"
          ]
        }
      ],
      "source": [
        "report_text = \"A máquina X apresentou superaquecimento durante a produção. O processo foi interrompido por 2 horas para resfriamento e ajuste técnico.\"\n",
        "print(optimize_downtime_report(report_text))"
      ]
    },
    {
      "cell_type": "code",
      "execution_count": 46,
      "metadata": {
        "colab": {
          "base_uri": "https://localhost:8080/"
        },
        "id": "TEn5isGpfW5D",
        "outputId": "c6f101d1-3862-4ebf-e15c-147a5767ffaa"
      },
      "outputs": [
        {
          "name": "stdout",
          "output_type": "stream",
          "text": [
            "Olá! Aqui estão as instruções organizadas e detalhadas para facilitar a execução das tarefas:\n",
            "\n",
            "1. **Verificar a pressão no tanque A**\n",
            "   - **Ferramentas necessárias:** \n",
            "     - Manômetro apropriado para verificar a pressão.\n",
            "     - Luvas de segurança e óculos de proteção.\n",
            "\n",
            "2. **Checar o óleo**\n",
            "   - **Ferramentas necessárias:**\n",
            "     - Vareta de medição para verificar o nível de óleo.\n",
            "     - Luvas de segurança.\n",
            "\n",
            "3. **Substituir o filtro**\n",
            "   - **Ferramentas necessárias:**\n",
            "     - Chave apropriada para remover e instalar o filtro.\n",
            "     - Recipiente para descarte do óleo do filtro antigo.\n",
            "     - Luvas de segurança e óculos de proteção.\n",
            "\n",
            "4. **Verificar o motor elétrico trifásico**\n",
            "   - **Ferramentas necessárias:**\n",
            "     - Multímetro para verificar a tensão e a continuidade elétrica.\n",
            "     - Chave de fenda para abrir o painel do motor, se necessário.\n",
            "     - Luvas isolantes e óculos de proteção.\n",
            "\n",
            "Cada tarefa deve ser realizada com atenção e seguindo todas as normas de segurança. No caso do motor elétrico trifásico e outras máquinas envolvidas, consulte os manuais específicos de cada um para procedimentos detalhados e recomendações de segurança. Infelizmente, não tenho acesso aos manuais neste momento, mas é crucial verificar se eles estão disponíveis na oficina antes de iniciar o trabalho.\n",
            "\n",
            "Caso tenha qualquer dúvida em relação a essas tarefas ou outras questões, não hesite em entrar em contato. Certifique-se de usar sempre o equipamento de proteção individual adequado e dedicar uma atenção especial à segurança. Boa sorte nas tarefas!\n"
          ]
        }
      ],
      "source": [
        "user_input = \"O chefe me disse para verificar a pressão no tanque A, checar o óleo e substituir o filtro. Também pediu para verificar o motor elétrico trifásico\"\n",
        "print(route_request(user_input))"
      ]
    },
    {
      "cell_type": "code",
      "execution_count": 48,
      "metadata": {
        "colab": {
          "base_uri": "https://localhost:8080/"
        },
        "id": "gBC9m8OEh6x7",
        "outputId": "4ee51438-4207-476e-ed11-9135fcc6c4f0"
      },
      "outputs": [
        {
          "name": "stdout",
          "output_type": "stream",
          "text": [
            "Olá! Abaixo estão organizadas as instruções de manutenção para você seguir neste domingo:\n",
            "\n",
            "1. **Lubrificação dos rolamentos na linha 3:**\n",
            "   - Utilize o lubrificante código azul 6624 já disponível no estoque.\n",
            "   - Consulte a ficha técnica do equipamento para verificar a quantidade correta de lubrificante.\n",
            "\n",
            "2. **Verificação do nível de óleo na desencapadora da linha 12:**\n",
            "   - Verifique as medições e assegure-se de que o nível de óleo está correto para evitar picos de temperatura e possíveis paradas do equipamento.\n",
            "\n",
            "3. **Substituição do filtro de ar no compressor 5:**\n",
            "   - Localize o filtro novo sob a bancada no almoxarifado.\n",
            "   - Proceda com a substituição do filtro de ar que já deveria ter sido trocada na última parada.\n",
            "\n",
            "4. **Inspeção na bomba de circulação no canto direito junto ao compressor:**\n",
            "   - Verifique a bomba de circulação quanto a qualquer ruído estranho e inspecione seu funcionamento geral.\n",
            "\n",
            "### Ferramentas Necessárias:\n",
            "- Para a lubrificação dos rolamentos:\n",
            "  - Usar uma pistola de graxa: Código SAP MAT905 (Conjunto de Chaves Allen) para abrir as tampas se necessário.\n",
            "- Para a substituição do filtro de ar e inspeção no compressor:\n",
            "  - Chave de ajuste: Código SAP MAT906 (Chave Estrela 12mm).\n",
            "- Para a verificação do nível de óleo:\n",
            "  - Lanterna: Para visualizar o nível de óleo no reservatório, caso o local seja pouco iluminado.\n",
            "\n",
            "### Manual Relevante:\n",
            "- **W22 Electric Motors Technical Manual:**\n",
            "  - Siga as diretrizes de manutenção e verificação conforme detalhado no manual. Verificar a seção de troca de filtros e lubrificação de rolamentos para mais instruções específicas.\n",
            "  - O manual destaca a importância de seguir os procedimentos de segurança ao realizar a manutenção dos motores e verificações elétricas.\n",
            "\n",
            "Por favor, assegure-se de seguir todas as instruções de segurança e use o EPI adequado para cada tarefa. Se você tiver qualquer dúvida ou precisar de assistência adicional, sinta-se à vontade para entrar em contato com a equipe de suporte. Boa sorte com as manutenções e tenha um ótimo trabalho!\n"
          ]
        }
      ],
      "source": [
        "print(route_request(transcribed_text, tool_catalog, manual_text))"
      ]
    },
    {
      "cell_type": "code",
      "execution_count": 50,
      "metadata": {
        "colab": {
          "base_uri": "https://localhost:8080/"
        },
        "id": "UATSsZUNlwrf",
        "outputId": "f46de1ed-6fb5-474f-dcaf-a12e26ed61b8"
      },
      "outputs": [
        {
          "name": "stdout",
          "output_type": "stream",
          "text": [
            "Olá,\n",
            "\n",
            "Como não foi fornecido o texto exato das instruções do áudio, vou criar um exemplo genérico de como você poderia organizar as instruções de manutenção industrial com base em práticas comuns de manutenção. Assim que você tiver as instruções específicas, você pode seguir este modelo para organizá-las e identificar as ferramentas necessárias.\n",
            "\n",
            "### Instruções de Manutenção:\n",
            "\n",
            "1. **Inspeção Visual e Limpeza:**\n",
            "   - **Descrição da Tarefa:** Verifique visivelmente a máquina por quaisquer sinais de desgaste, danos ou acúmulo de detritos. Limpe a máquina para remover poeira, sujeira e outros contaminantes.\n",
            "   - **Ferramentas Necessárias:** Pano de limpeza, escova de cerdas macias, aspirador de pó para equipamentos industriais.\n",
            "\n",
            "2. **Lubrificação:**\n",
            "   - **Descrição da Tarefa:** Aplique lubrificante nos componentes móveis para garantir que eles funcionem suavemente sem excesso de atrito ou superaquecimento.\n",
            "   - **Ferramentas Necessárias:** Óleo lubrificante ou graxa, pistola de graxa, panos limpos para remoção de excesso.\n",
            "\n",
            "3. **Verificação e Ajuste de Tensão de Correias:**\n",
            "   - **Descrição da Tarefa:** Verifique a tensão das correias e faça os ajustes necessários para evitar deslizamento ou desgaste excessivo.\n",
            "   - **Ferramentas Necessárias:** Chaves de fenda, chaves ajustáveis, medidor de tensão de correia.\n",
            "\n",
            "4. **Substituição de Peças Desgastadas:**\n",
            "   - **Descrição da Tarefa:** Substitua componentes que mostram sinais de desgaste significativo como correias, rolamentos e juntas.\n",
            "   - **Ferramentas Necessárias:** Conjunto de chaves de fenda, chaves de boca, martelo de borracha, extractores de rolamentos.\n",
            "\n",
            "5. **Calibração:**\n",
            "   - **Descrição da Tarefa:** Calibre os instrumentos e controle a configuração para garantir a precisão durante a operação da máquina.\n",
            "   - **Ferramentas Necessárias:** Calibradores, manuais de calibração específicos da máquina, software de calibração se aplicável.\n",
            "\n",
            "6. **Teste Funcional:**\n",
            "   - **Descrição da Tarefa:** Após a manutenção, execute a máquina para garantir que ela está operando conforme esperado sem falhas.\n",
            "   - **Ferramentas Necessárias:** Equipamentos de diagnóstico específicos da máquina, computador para análise de desempenho, se necessário.\n",
            "\n",
            "### Manuais e Instruções Relevantes:\n",
            "\n",
            "Se durante as instruções foi mencionada uma máquina específica, o manual relevante para essa máquina deve ser consultado antes de executar qualquer procedimento de manutenção. Certifique-se de seguir todas as orientações de segurança e operação conforme indicado no manual.\n",
            "\n",
            "### Notas Adicionais:\n",
            "\n",
            "Sempre use equipamentos de proteção individual necessários para cada tarefa como óculos de segurança, luvas e protetores auriculares. Certifique-se de desconectar a máquina de fontes de alimentação antes de realizar manutenção para evitar acidentes.\n",
            "\n",
            "Espero que essas informações o ajudem a realizar a manutenção de maneira eficiente e segura. Se precisar de detalhes específicos ou encontrar dificuldades, consulte o manual do equipamento ou entre em contato comigo.\n"
          ]
        }
      ],
      "source": [
        "print(route_request(file_path, tool_catalog, manual_text))"
      ]
    },
    {
      "cell_type": "code",
      "execution_count": 56,
      "metadata": {
        "colab": {
          "base_uri": "https://localhost:8080/"
        },
        "id": "jfwnNpLhmbMk",
        "outputId": "459699d2-4abc-42a8-96a4-318835ffdba4"
      },
      "outputs": [
        {
          "name": "stdout",
          "output_type": "stream",
          "text": [
            "Instruções para o Técnico: Olá, aqui estão as instruções organizadas e claras para você seguir:\n",
            "\n",
            "1. **Verificar o Equipamento**:\n",
            "   - Inspecione o equipamento para identificar sinais visíveis de desgaste ou danos.\n",
            "   - Ferramentas sugeridas: Torquímetro 40-200Nm (Código SAP: MAT904).\n",
            "\n",
            "2. **Substituição de Componentes Desgastados**:\n",
            "   - Substitua quaisquer peças que mostrem sinais de desgaste evidente, como discos de corte ou serras.\n",
            "   - Ferramentas sugeridas: Serra Circular (Código SAP: MAT001), Disco de Corte (Código SAP: MAT002).\n",
            "\n",
            "3. **Ajuste e Calibração**:\n",
            "   - Faça os ajustes necessários para garantir que o equipamento esteja operando na eficiência máxima.\n",
            "   - Ferramentas sugeridas: Conjunto de Chaves Allen (Código SAP: MAT905), Chave Estrela 12mm (Código SAP: MAT906).\n",
            "\n",
            "4. **Teste Funcional**:\n",
            "   - Após a manutenção, realize testes para assegurar que o equipamento está funcionando corretamente.\n",
            "   - Ferramenta sugerida: Martelo de Borracha (Código SAP: MAT903) para testes leves de impacto e verificação de montagem.\n",
            "\n",
            "5. **Limpeza**:\n",
            "   - Limpe o equipamento para remover detritos e garantir seu bom funcionamento.\n",
            "   - Não especificado uma ferramenta do catálogo, sugere-se usar materiais de limpeza padrão.\n",
            "\n",
            "Infelizmente, você não mencionou nenhum manual específico em suas instruções, então não posso fornecer detalhes ou traduções de nenhum manual específico de máquina. Certifique-se de seguir as diretrizes de segurança padrão ao manusear as ferramentas e durante o procedimento de manutenção.\n",
            "\n",
            "Se houver mais alguma coisa que eu possa ajudar ou fornecer, por favor me avise!\n"
          ]
        }
      ],
      "source": [
        "print(route_request(\"Preciso transcrever um áudio e fornecer instruções para o técnico.\", file_path, pdf_path, tool_catalog))"
      ]
    },
    {
      "cell_type": "code",
      "execution_count": null,
      "metadata": {
        "id": "pSdeKh_Pn4dr"
      },
      "outputs": [],
      "source": []
    }
  ],
  "metadata": {
    "colab": {
      "provenance": []
    },
    "kernelspec": {
      "display_name": "Python 3",
      "name": "python3"
    },
    "language_info": {
      "name": "python"
    }
  },
  "nbformat": 4,
  "nbformat_minor": 0
}
